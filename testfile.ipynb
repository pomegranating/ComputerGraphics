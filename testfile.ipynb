{
 "cells": [
  {
   "cell_type": "code",
   "execution_count": 2,
   "id": "5ff73336",
   "metadata": {
    "ExecuteTime": {
     "end_time": "2023-09-25T13:29:52.441665200Z",
     "start_time": "2023-09-25T13:29:49.763060200Z"
    }
   },
   "outputs": [
    {
     "data": {
      "text/plain": "     Student Number                     Student Name        DoB  \\\nNo.                                                               \n1            144234        Abwoga, Adrian Jared Paul 2000-06-17   \n2            145587  Akong'o, Shanelle Hilda Anyango 2001-11-14   \n3            145401             Ang'edu, Jude Ocomil 2003-08-21   \n4            140801               Arunga, Kyla Neema 2003-10-26   \n5            137357   Atenya, Anthony Magunga Ikobwa 2002-03-17   \n..              ...                              ...        ...   \n60           143621             Wachira, Joy Muthoni 2001-08-07   \n61           146360           Wakaba, Rosemary Njeri 2000-01-11   \n62           124342             Wanjao, Louis Mbugua 2001-04-20   \n63           145356           Waweru, Monika Ng'endo 2002-05-20   \n64           137931           Waweru, Trevor Kariuki 2002-04-19   \n\n     Email Address Gender  \nNo.                        \n1              NaN      M  \n2              NaN      F  \n3              NaN      M  \n4              NaN      F  \n5              NaN      M  \n..             ...    ...  \n60             NaN      F  \n61             NaN      F  \n62             NaN      M  \n63             NaN      F  \n64             NaN      M  \n\n[64 rows x 5 columns]",
      "text/html": "<div>\n<style scoped>\n    .dataframe tbody tr th:only-of-type {\n        vertical-align: middle;\n    }\n\n    .dataframe tbody tr th {\n        vertical-align: top;\n    }\n\n    .dataframe thead th {\n        text-align: right;\n    }\n</style>\n<table border=\"1\" class=\"dataframe\">\n  <thead>\n    <tr style=\"text-align: right;\">\n      <th></th>\n      <th>Student Number</th>\n      <th>Student Name</th>\n      <th>DoB</th>\n      <th>Email Address</th>\n      <th>Gender</th>\n    </tr>\n    <tr>\n      <th>No.</th>\n      <th></th>\n      <th></th>\n      <th></th>\n      <th></th>\n      <th></th>\n    </tr>\n  </thead>\n  <tbody>\n    <tr>\n      <th>1</th>\n      <td>144234</td>\n      <td>Abwoga, Adrian Jared Paul</td>\n      <td>2000-06-17</td>\n      <td>NaN</td>\n      <td>M</td>\n    </tr>\n    <tr>\n      <th>2</th>\n      <td>145587</td>\n      <td>Akong'o, Shanelle Hilda Anyango</td>\n      <td>2001-11-14</td>\n      <td>NaN</td>\n      <td>F</td>\n    </tr>\n    <tr>\n      <th>3</th>\n      <td>145401</td>\n      <td>Ang'edu, Jude Ocomil</td>\n      <td>2003-08-21</td>\n      <td>NaN</td>\n      <td>M</td>\n    </tr>\n    <tr>\n      <th>4</th>\n      <td>140801</td>\n      <td>Arunga, Kyla Neema</td>\n      <td>2003-10-26</td>\n      <td>NaN</td>\n      <td>F</td>\n    </tr>\n    <tr>\n      <th>5</th>\n      <td>137357</td>\n      <td>Atenya, Anthony Magunga Ikobwa</td>\n      <td>2002-03-17</td>\n      <td>NaN</td>\n      <td>M</td>\n    </tr>\n    <tr>\n      <th>...</th>\n      <td>...</td>\n      <td>...</td>\n      <td>...</td>\n      <td>...</td>\n      <td>...</td>\n    </tr>\n    <tr>\n      <th>60</th>\n      <td>143621</td>\n      <td>Wachira, Joy Muthoni</td>\n      <td>2001-08-07</td>\n      <td>NaN</td>\n      <td>F</td>\n    </tr>\n    <tr>\n      <th>61</th>\n      <td>146360</td>\n      <td>Wakaba, Rosemary Njeri</td>\n      <td>2000-01-11</td>\n      <td>NaN</td>\n      <td>F</td>\n    </tr>\n    <tr>\n      <th>62</th>\n      <td>124342</td>\n      <td>Wanjao, Louis Mbugua</td>\n      <td>2001-04-20</td>\n      <td>NaN</td>\n      <td>M</td>\n    </tr>\n    <tr>\n      <th>63</th>\n      <td>145356</td>\n      <td>Waweru, Monika Ng'endo</td>\n      <td>2002-05-20</td>\n      <td>NaN</td>\n      <td>F</td>\n    </tr>\n    <tr>\n      <th>64</th>\n      <td>137931</td>\n      <td>Waweru, Trevor Kariuki</td>\n      <td>2002-04-19</td>\n      <td>NaN</td>\n      <td>M</td>\n    </tr>\n  </tbody>\n</table>\n<p>64 rows × 5 columns</p>\n</div>"
     },
     "execution_count": 2,
     "metadata": {},
     "output_type": "execute_result"
    }
   ],
   "source": [
    "import pandas as pd\n",
    "testfile3B=pd.read_excel(\"testfiles.xlsx\",sheet_name='3B',index_col='No.')\n",
    "# testfile.to_csv(\"testfiles.csv\", index=None, header=True)\n",
    "# # df = pd.DataFrame(pd.read_csv(\"testfiles.csv\"))\n",
    "# df = pd.read_csv(\"testfiles.csv\")\n",
    "# df\n",
    "testfile3B"
   ]
  },
  {
   "cell_type": "code",
   "execution_count": 3,
   "id": "843eccb9",
   "metadata": {
    "scrolled": true,
    "ExecuteTime": {
     "end_time": "2023-09-25T13:29:52.463470100Z",
     "start_time": "2023-09-25T13:29:52.459333700Z"
    }
   },
   "outputs": [
    {
     "name": "stdout",
     "output_type": "stream",
     "text": [
      "     Student Number                     Student Name        DoB  \\\n",
      "No.                                                               \n",
      "1            144234        Abwoga, Adrian Jared Paul 2000-06-17   \n",
      "2            145587  Akong'o, Shanelle Hilda Anyango 2001-11-14   \n",
      "3            145401             Ang'edu, Jude Ocomil 2003-08-21   \n",
      "4            140801               Arunga, Kyla Neema 2003-10-26   \n",
      "5            137357   Atenya, Anthony Magunga Ikobwa 2002-03-17   \n",
      "..              ...                              ...        ...   \n",
      "60           143621             Wachira, Joy Muthoni 2001-08-07   \n",
      "61           146360           Wakaba, Rosemary Njeri 2000-01-11   \n",
      "62           124342             Wanjao, Louis Mbugua 2001-04-20   \n",
      "63           145356           Waweru, Monika Ng'endo 2002-05-20   \n",
      "64           137931           Waweru, Trevor Kariuki 2002-04-19   \n",
      "\n",
      "               Email Address Gender  \n",
      "No.                                  \n",
      "1       apaul@strathmore.edu      M  \n",
      "2    aanyango@strathmore.edu      F  \n",
      "3     aocomil@strathmore.edu      M  \n",
      "4      aneema@strathmore.edu      F  \n",
      "5     aikobwa@strathmore.edu      M  \n",
      "..                       ...    ...  \n",
      "60   wmuthoni@strathmore.edu      F  \n",
      "61     wnjeri@strathmore.edu      F  \n",
      "62    wmbugua@strathmore.edu      M  \n",
      "63   wng'endo@strathmore.edu      F  \n",
      "64   wkariuki@strathmore.edu      M  \n",
      "\n",
      "[64 rows x 5 columns]\n"
     ]
    }
   ],
   "source": [
    "def generate_email(row):\n",
    "    # Extract relevant columns\n",
    "    student_name = row['Student Name']\n",
    "    \n",
    "    # Split the name into parts\n",
    "    parts = student_name.split(' ')\n",
    "    \n",
    "    # Extract the first and last name (if available)\n",
    "    last_name = parts[-1].strip()  # Remove leading/trailing spaces\n",
    "    first_name = parts[0].strip()[0] if len(parts) > 1 else \"\"\n",
    "    \n",
    "    # Remove spaces from the first name\n",
    "    first_name = first_name.replace(\" \", \"\")\n",
    "    \n",
    "    # Combine the first and last name to form the email address\n",
    "    email = f\"{first_name}{last_name}@strathmore.edu\"\n",
    "    \n",
    "    return email.lower() \n",
    "\n",
    "\n",
    "testfile3B['Email Address'] = testfile3B.apply(generate_email, axis=1)\n",
    "\n",
    "\n",
    "print(testfile3B[['Student Number','Student Name','DoB', 'Email Address','Gender']])\n"
   ]
  },
  {
   "cell_type": "code",
   "execution_count": 4,
   "id": "c2d3df58",
   "metadata": {
    "ExecuteTime": {
     "end_time": "2023-09-25T13:29:52.515435800Z",
     "start_time": "2023-09-25T13:29:52.468033200Z"
    }
   },
   "outputs": [
    {
     "name": "stdout",
     "output_type": "stream",
     "text": [
      "                        Student Name            Email Address\n",
      "No.                                                          \n",
      "1          Abwoga, Adrian Jared Paul     apaul@strathmore.edu\n",
      "2    Akong'o, Shanelle Hilda Anyango  aanyango@strathmore.edu\n",
      "3               Ang'edu, Jude Ocomil   aocomil@strathmore.edu\n",
      "4                 Arunga, Kyla Neema    aneema@strathmore.edu\n",
      "5     Atenya, Anthony Magunga Ikobwa   aikobwa@strathmore.edu\n",
      "..                               ...                      ...\n",
      "60              Wachira, Joy Muthoni  wmuthoni@strathmore.edu\n",
      "61            Wakaba, Rosemary Njeri    wnjeri@strathmore.edu\n",
      "62              Wanjao, Louis Mbugua   wmbugua@strathmore.edu\n",
      "63            Waweru, Monika Ng'endo  wng'endo@strathmore.edu\n",
      "64            Waweru, Trevor Kariuki  wkariuki@strathmore.edu\n",
      "\n",
      "[64 rows x 2 columns]\n"
     ]
    }
   ],
   "source": [
    "print(testfile3B[['Student Name', 'Email Address']])"
   ]
  },
  {
   "cell_type": "code",
   "execution_count": 5,
   "id": "8337bc09",
   "metadata": {
    "ExecuteTime": {
     "end_time": "2023-09-25T13:29:52.591639300Z",
     "start_time": "2023-09-25T13:29:52.502667800Z"
    }
   },
   "outputs": [
    {
     "name": "stdout",
     "output_type": "stream",
     "text": [
      "     Student Number                     Student Name        DoB  \\\n",
      "No.                                                               \n",
      "1            144234        Abwoga, Adrian Jared Paul 2000-06-17   \n",
      "2            145587  Akong'o, Shanelle Hilda Anyango 2001-11-14   \n",
      "3            145401             Ang'edu, Jude Ocomil 2003-08-21   \n",
      "4            140801               Arunga, Kyla Neema 2003-10-26   \n",
      "5            137357   Atenya, Anthony Magunga Ikobwa 2002-03-17   \n",
      "..              ...                              ...        ...   \n",
      "60           143621             Wachira, Joy Muthoni 2001-08-07   \n",
      "61           146360           Wakaba, Rosemary Njeri 2000-01-11   \n",
      "62           124342             Wanjao, Louis Mbugua 2001-04-20   \n",
      "63           145356           Waweru, Monika Ng'endo 2002-05-20   \n",
      "64           137931           Waweru, Trevor Kariuki 2002-04-19   \n",
      "\n",
      "               Email Address Gender  \n",
      "No.                                  \n",
      "1       apaul@strathmore.edu      M  \n",
      "2    aanyango@strathmore.edu      F  \n",
      "3     aocomil@strathmore.edu      M  \n",
      "4      aneema@strathmore.edu      F  \n",
      "5     aikobwa@strathmore.edu      M  \n",
      "..                       ...    ...  \n",
      "60   wmuthoni@strathmore.edu      F  \n",
      "61     wnjeri@strathmore.edu      F  \n",
      "62    wmbugua@strathmore.edu      M  \n",
      "63    wngendo@strathmore.edu      F  \n",
      "64   wkariuki@strathmore.edu      M  \n",
      "\n",
      "[64 rows x 5 columns]\n"
     ]
    }
   ],
   "source": [
    "import re\n",
    "\n",
    "def generate_cleaned_email(row):\n",
    "    # Extract relevant columns\n",
    "    student_name = row['Student Name']\n",
    "    \n",
    "    # Split the name into parts\n",
    "    parts = student_name.split(' ')\n",
    "    \n",
    "    # Extract the first and last name (if available)\n",
    "    last_name = parts[-1].strip()  # Remove leading/trailing spaces\n",
    "    first_name = parts[0].strip()[0] if len(parts) > 1 else \"\"\n",
    "    \n",
    "    # Remove spaces and special characters from the first name\n",
    "    first_name = re.sub(r'[^\\w\\s]', '', first_name)\n",
    "    \n",
    "    # Remove spaces and special characters from the last name\n",
    "    last_name = re.sub(r'[^\\w\\s]', '', last_name)\n",
    "    \n",
    "    # Combine the cleaned first and last name to form the email address\n",
    "    email = f\"{first_name}{last_name}@strathmore.edu\"\n",
    "    \n",
    "    return email.lower() \n",
    "\n",
    "# Apply the updated function to create cleaned email addresses\n",
    "testfile3B['Email Address'] = testfile3B.apply(generate_cleaned_email, axis=1)\n",
    "\n",
    "print(testfile3B[['Student Number','Student Name','DoB', 'Email Address','Gender']])\n"
   ]
  },
  {
   "cell_type": "code",
   "execution_count": 9,
   "id": "b8249b6a",
   "metadata": {
    "ExecuteTime": {
     "end_time": "2023-09-25T13:30:36.133589300Z",
     "start_time": "2023-09-25T13:30:36.085534300Z"
    }
   },
   "outputs": [
    {
     "name": "stdout",
     "output_type": "stream",
     "text": [
      "     Student Number                    Student Name        DoB  \\\n",
      "No.                                                              \n",
      "1            144234       Abwoga, Adrian Jared Paul 2000-06-17   \n",
      "3            145401            Ang'edu, Jude Ocomil 2003-08-21   \n",
      "5            137357  Atenya, Anthony Magunga Ikobwa 2002-03-17   \n",
      "6            145346        Budembeshe, Moses Kasuni 2002-02-24   \n",
      "7            146320         Dessalegn, Kalid Geleta 2000-09-07   \n",
      "8            134693            Epetet, Keith Lokwei 2001-06-08   \n",
      "9            146356               Ger, David Otieno 2001-01-28   \n",
      "10            87244     Githinji, Don Moses Thigiti 2000-04-12   \n",
      "11           145982                 Haji, Ashir Ali 2003-06-13   \n",
      "14           137766          Johnson, Myles Adebayo 2001-04-27   \n",
      "18           146015           Kiarie, Samuel Ndungu 2000-06-09   \n",
      "20           131652            Kimutai, Peter Kibet 2002-09-16   \n",
      "21           146602            Kinyua, Victor Mfana 2003-10-28   \n",
      "22           138458           Kirema, Ian Muteithia 2001-03-01   \n",
      "23           122992           Kithae, Eric Muriithi 2000-10-02   \n",
      "24           145460            Korir, Kevin Kimutai 2002-10-26   \n",
      "25           145493              Kwoba, Alex Wafula 2002-04-26   \n",
      "26           141706        Maritim, Kelvin Kipngeno 2000-10-23   \n",
      "27           102206    Masaka, Zivai Takadiwa David 2002-07-06   \n",
      "28           138493           Mohamed, Ally Mahamud 2003-04-04   \n",
      "29           146357         Morekwa, David Nyamongo 2001-02-13   \n",
      "30           144955          Mugambi, Kelvin Karani 2000-04-10   \n",
      "31           122279            Muhia, Victor Mwaura 2000-09-26   \n",
      "34           138348            Muroki, Mark Gichuhi 2001-12-28   \n",
      "36           146098         Mutua, Franklin Karanja 2003-10-21   \n",
      "37           134362            Mutunga, Eric Kiamba 2003-07-11   \n",
      "39           145840           Mwanda, George Josiah 2000-02-20   \n",
      "40           145706         Nabaala, Andrew Kasaine 2001-07-27   \n",
      "44           145547            Ng'ang'a, Ian Mutuge 2001-01-23   \n",
      "45           145732           Ngeno, Alvin Kipkurui 2002-12-22   \n",
      "46            89724         Ngigi, Michael Macharia 2003-08-11   \n",
      "48           146197             Nugi, Andrew Kiarie 2003-04-15   \n",
      "51           138897       Ochanda, Steven Joel Jona 2000-04-02   \n",
      "53           138367        Ombeni, Mwenzangu Faraja 2001-12-03   \n",
      "54           124965           Ombongi, Caleb Magare 2002-09-27   \n",
      "57           141756                Patel, Jay Hirji 2003-06-25   \n",
      "58           145837                   Tonui, Martin 2002-06-02   \n",
      "59           132747        Tum, Bramwel Kipchirchir 2001-02-06   \n",
      "62           124342            Wanjao, Louis Mbugua 2001-04-20   \n",
      "64           137931          Waweru, Trevor Kariuki 2002-04-19   \n",
      "\n",
      "                   Email Address Gender  \n",
      "No.                                      \n",
      "1           apaul@strathmore.edu      M  \n",
      "3         aocomil@strathmore.edu      M  \n",
      "5         aikobwa@strathmore.edu      M  \n",
      "6         bkasuni@strathmore.edu      M  \n",
      "7         dgeleta@strathmore.edu      M  \n",
      "8         elokwei@strathmore.edu      M  \n",
      "9         gotieno@strathmore.edu      M  \n",
      "10       gthigiti@strathmore.edu      M  \n",
      "11           hali@strathmore.edu      M  \n",
      "14       jadebayo@strathmore.edu      M  \n",
      "18        kndungu@strathmore.edu      M  \n",
      "20         kkibet@strathmore.edu      M  \n",
      "21         kmfana@strathmore.edu      M  \n",
      "22     kmuteithia@strathmore.edu      M  \n",
      "23      kmuriithi@strathmore.edu      M  \n",
      "24       kkimutai@strathmore.edu      M  \n",
      "25        kwafula@strathmore.edu      M  \n",
      "26      mkipngeno@strathmore.edu      M  \n",
      "27         mdavid@strathmore.edu      M  \n",
      "28       mmahamud@strathmore.edu      M  \n",
      "29      mnyamongo@strathmore.edu      M  \n",
      "30        mkarani@strathmore.edu      M  \n",
      "31        mmwaura@strathmore.edu      M  \n",
      "34       mgichuhi@strathmore.edu      M  \n",
      "36       mkaranja@strathmore.edu      M  \n",
      "37        mkiamba@strathmore.edu      M  \n",
      "39        mjosiah@strathmore.edu      M  \n",
      "40       nkasaine@strathmore.edu      M  \n",
      "44        nmutuge@strathmore.edu      M  \n",
      "45      nkipkurui@strathmore.edu      M  \n",
      "46      nmacharia@strathmore.edu      M  \n",
      "48        nkiarie@strathmore.edu      M  \n",
      "51          ojona@strathmore.edu      M  \n",
      "53        ofaraja@strathmore.edu      M  \n",
      "54        omagare@strathmore.edu      M  \n",
      "57         phirji@strathmore.edu      M  \n",
      "58        tmartin@strathmore.edu      M  \n",
      "59   tkipchirchir@strathmore.edu      M  \n",
      "62        wmbugua@strathmore.edu      M  \n",
      "64       wkariuki@strathmore.edu      M  \n"
     ]
    },
    {
     "data": {
      "text/plain": "40"
     },
     "execution_count": 9,
     "metadata": {},
     "output_type": "execute_result"
    }
   ],
   "source": [
    "# Assuming you have a DataFrame called 'testfile3B'\n",
    "# To filter and print rows where 'Gender' is 'M' (male)\n",
    "male_students = testfile3B[testfile3B['Gender'] == 'M']\n",
    "print(male_students[['Student Number', 'Student Name', 'DoB', 'Email Address', 'Gender']])\n",
    "len(male_students)"
   ]
  },
  {
   "cell_type": "code",
   "execution_count": 10,
   "id": "26ef80eb",
   "metadata": {
    "ExecuteTime": {
     "end_time": "2023-09-25T13:30:55.646130700Z",
     "start_time": "2023-09-25T13:30:55.620730100Z"
    }
   },
   "outputs": [
    {
     "name": "stdout",
     "output_type": "stream",
     "text": [
      "     Student Number                     Student Name        DoB  \\\n",
      "No.                                                               \n",
      "2            145587  Akong'o, Shanelle Hilda Anyango 2001-11-14   \n",
      "4            140801               Arunga, Kyla Neema 2003-10-26   \n",
      "12           145644       Hassan, Fardowsa Abduhakim 2000-09-20   \n",
      "13           138551              Ismail, Ruweida Ali 2000-04-08   \n",
      "15           141910                 Kamau, Ann Mumbi 2001-11-28   \n",
      "16           145883         Kangethe, Sharon Wanjiru 2000-02-20   \n",
      "17           145702            Karanu, Neema Muthoni 2001-11-24   \n",
      "19           146273            Kihara, Shannon Kendi 2002-10-14   \n",
      "32           145350        Muiyuro, Natasha Waithira 2002-08-19   \n",
      "33           145889               Muli, Grace Kanini 2000-04-27   \n",
      "35           145434               Mutaki, Ruby Mbete 2002-06-17   \n",
      "38           141855       Mutunga, Patience Kamanthe 2000-08-08   \n",
      "41           145890                  Naibei, Monicah 2002-11-28   \n",
      "42           145353        Ndambiri, Yvonne Nyambura 2002-07-21   \n",
      "43           136559      Ndungu, Sarah Laura Wangari 2003-10-01   \n",
      "47           137222         Njuguna, Elizabeth Njoki 2000-07-07   \n",
      "49           139010                  Nyambura, Erica 2002-08-26   \n",
      "50           139471           Nzioki, Maureen Mutete 2002-10-05   \n",
      "52           128099       Ogutu, Brenda Mary Anyango 2002-04-24   \n",
      "55           137668            Orony, Charis Ng'wono 2000-01-16   \n",
      "56           142005              Owens, Nicole Owens 2000-09-14   \n",
      "60           143621             Wachira, Joy Muthoni 2001-08-07   \n",
      "61           146360           Wakaba, Rosemary Njeri 2000-01-11   \n",
      "63           145356           Waweru, Monika Ng'endo 2002-05-20   \n",
      "\n",
      "                 Email Address Gender  \n",
      "No.                                    \n",
      "2      aanyango@strathmore.edu      F  \n",
      "4        aneema@strathmore.edu      F  \n",
      "12   habduhakim@strathmore.edu      F  \n",
      "13         iali@strathmore.edu      F  \n",
      "15       kmumbi@strathmore.edu      F  \n",
      "16     kwanjiru@strathmore.edu      F  \n",
      "17     kmuthoni@strathmore.edu      F  \n",
      "19       kkendi@strathmore.edu      F  \n",
      "32    mwaithira@strathmore.edu      F  \n",
      "33      mkanini@strathmore.edu      F  \n",
      "35       mmbete@strathmore.edu      F  \n",
      "38    mkamanthe@strathmore.edu      F  \n",
      "41     nmonicah@strathmore.edu      F  \n",
      "42    nnyambura@strathmore.edu      F  \n",
      "43     nwangari@strathmore.edu      F  \n",
      "47       nnjoki@strathmore.edu      F  \n",
      "49       nerica@strathmore.edu      F  \n",
      "50      nmutete@strathmore.edu      F  \n",
      "52     oanyango@strathmore.edu      F  \n",
      "55      ongwono@strathmore.edu      F  \n",
      "56       oowens@strathmore.edu      F  \n",
      "60     wmuthoni@strathmore.edu      F  \n",
      "61       wnjeri@strathmore.edu      F  \n",
      "63      wngendo@strathmore.edu      F  \n"
     ]
    },
    {
     "data": {
      "text/plain": "24"
     },
     "execution_count": 10,
     "metadata": {},
     "output_type": "execute_result"
    }
   ],
   "source": [
    "female_students=testfile3B[testfile3B['Gender'] == 'F']\n",
    "print(female_students[['Student Number', 'Student Name', 'DoB', 'Email Address', 'Gender']])\n",
    "len(female_students)\n"
   ]
  },
  {
   "cell_type": "code",
   "execution_count": 19,
   "outputs": [
    {
     "name": "stdout",
     "output_type": "stream",
     "text": [
      "No.\n",
      "2     Akong'o, Shanelle Hilda Anyango\n",
      "3                Ang'edu, Jude Ocomil\n",
      "44               Ng'ang'a, Ian Mutuge\n",
      "55              Orony, Charis Ng'wono\n",
      "63             Waweru, Monika Ng'endo\n",
      "Name: Student Name, dtype: object\n"
     ]
    },
    {
     "data": {
      "text/plain": "5"
     },
     "execution_count": 19,
     "metadata": {},
     "output_type": "execute_result"
    }
   ],
   "source": [
    "import pandas as pd\n",
    "import re\n",
    "\n",
    "special_char_pattern = re.compile(r'[!@#$%^&*()_+{}\\[\\]:;<>.?~\\\\\\/|\"\\']')\n",
    "\n",
    "names_with_special_chars = testfile3B[testfile3B['Student Name'].str.contains(special_char_pattern)]\n",
    "\n",
    "print(names_with_special_chars['Student Name'])\n",
    "len(names_with_special_chars)\n"
   ],
   "metadata": {
    "collapsed": false,
    "ExecuteTime": {
     "end_time": "2023-09-25T13:40:45.451206900Z",
     "start_time": "2023-09-25T13:40:45.397476800Z"
    }
   },
   "id": "6b6c8dff145475d6"
  },
  {
   "cell_type": "code",
   "execution_count": null,
   "outputs": [],
   "source": [],
   "metadata": {
    "collapsed": false
   },
   "id": "5af443a757b9012b"
  }
 ],
 "metadata": {
  "kernelspec": {
   "display_name": "Python 3 (ipykernel)",
   "language": "python",
   "name": "python3"
  },
  "language_info": {
   "codemirror_mode": {
    "name": "ipython",
    "version": 3
   },
   "file_extension": ".py",
   "mimetype": "text/x-python",
   "name": "python",
   "nbconvert_exporter": "python",
   "pygments_lexer": "ipython3",
   "version": "3.10.13"
  }
 },
 "nbformat": 4,
 "nbformat_minor": 5
}
